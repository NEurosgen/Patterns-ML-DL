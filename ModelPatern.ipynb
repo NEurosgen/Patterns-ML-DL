{
 "cells": [
  {
   "cell_type": "markdown",
   "metadata": {},
   "source": [
    "$\\textbf{Разделение на обучающую и тестовую выборки}$\n",
    "\n",
    "Описание: Разделение данных на тренировочный набор для обучения и тестовый набор для оценки.\n",
    "\n",
    "Преимущества: Простота и быстрая реализация.\n",
    "\n",
    "Недостатки: Результаты могут зависеть от конкретного разделения данных.\n"
   ]
  },
  {
   "cell_type": "code",
   "execution_count": null,
   "metadata": {},
   "outputs": [],
   "source": [
    "from sklearn.model_selection import train_test_split\n",
    "from sklearn.preprocessing import StandardScaler\n",
    "def pipeStandSplit(X,Y):\n",
    "    scaller = StandardScaler()\n",
    "    X_scaller=scaller.fit_transform(X) \n",
    "    X_train,X_test,Y_train,Y_test=train_test_split(X_scaller,Y,test_size=0.2)\n",
    "    return X_train,X_test,Y_train,Y_test"
   ]
  },
  {
   "cell_type": "markdown",
   "metadata": {},
   "source": [
    "$\\textbf{K-Fold Cross-Validation}$\n",
    "\n",
    "Описание: Делит данные на k равных частей (folds), обучая модель на 𝑘−1\n",
    "k−1 частях и тестируя на оставшейся. Процесс повторяется 𝑘 раз.\n",
    "\n",
    "Преимущества: Уменьшает вероятность переобучения, так как модель тестируется на всех данных.\n",
    "\n",
    "Недостатки: Вычислительно затратен для больших данных.\n"
   ]
  },
  {
   "cell_type": "code",
   "execution_count": null,
   "metadata": {},
   "outputs": [],
   "source": [
    "from sklearn.model_selection import KFold, cross_val_score\n",
    "kf = KFold(n_splits=5)\n",
    "scores = cross_val_score(model, X, y, cv=kf)\n",
    "print(\"Средняя оценка:\", scores.mean())"
   ]
  },
  {
   "cell_type": "markdown",
   "metadata": {},
   "source": [
    "$\\textbf{Stratified K-Fold}$\n",
    "\n",
    "Описание: Модификация K-Fold, сохраняющая пропорции классов в каждом разбиении.\n",
    "\n",
    "Используется для: Несбалансированных данных."
   ]
  },
  {
   "cell_type": "code",
   "execution_count": null,
   "metadata": {},
   "outputs": [],
   "source": [
    "from sklearn.model_selection import StratifiedKFold\n",
    "skf = StratifiedKFold(n_splits=5)\n",
    "scores = cross_val_score(model, X, y, cv=skf)"
   ]
  },
  {
   "cell_type": "markdown",
   "metadata": {},
   "source": [
    "$\\textbf{Leave-One-Out Cross-Validation (LOOCV)}$\n",
    "\n",
    "Описание: Каждый пример данных используется как тестовый, а остальные как обучающие.\n",
    "\n",
    "Преимущества: Максимально использует данные для обучения.\n",
    "\n",
    "Недостатки: Экстремально вычислительно затратен."
   ]
  },
  {
   "cell_type": "code",
   "execution_count": null,
   "metadata": {},
   "outputs": [],
   "source": [
    "from sklearn.model_selection import LeaveOneOut\n",
    "loo = LeaveOneOut()\n",
    "scores = cross_val_score(model, X, y, cv=loo)"
   ]
  },
  {
   "cell_type": "markdown",
   "metadata": {},
   "source": [
    "$\\textbf{Time Series Split}$\n",
    "\n",
    "Описание: Для временных рядов. Данные делятся на последовательные обучающие и тестовые наборы, соблюдая временную структуру.\n",
    "\n",
    "Используется для: Временных рядов, где важно сохранить порядок данных."
   ]
  },
  {
   "cell_type": "code",
   "execution_count": null,
   "metadata": {},
   "outputs": [],
   "source": [
    "from sklearn.model_selection import TimeSeriesSplit\n",
    "tscv = TimeSeriesSplit(n_splits=5)\n",
    "scores = cross_val_score(model, X, y, cv=tscv)"
   ]
  },
  {
   "cell_type": "markdown",
   "metadata": {},
   "source": [
    "$\\textbf{Holdout Validation}$\n",
    "\n",
    "Описание: Данные делятся на три части: обучающую, валидационную и тестовую. Валидационная выборка используется для настройки гиперпараметров."
   ]
  },
  {
   "cell_type": "code",
   "execution_count": null,
   "metadata": {},
   "outputs": [],
   "source": [
    "X_train, X_temp, y_train, y_temp = train_test_split(X, y, test_size=0.3, random_state=42)\n",
    "X_val, X_test, y_val, y_test = train_test_split(X_temp, y_temp, test_size=0.5, random_state=42)\n"
   ]
  },
  {
   "cell_type": "markdown",
   "metadata": {},
   "source": [
    "$\\textbf{Nested Cross-Validation}$\n",
    "\n",
    "Описание: Внешняя петля разделяет данные для оценки модели, а внутренняя петля ищет оптимальные гиперпараметры.\n",
    "\n",
    "Используется для: Оценки производительности модели с гиперпараметрами."
   ]
  },
  {
   "cell_type": "code",
   "execution_count": null,
   "metadata": {},
   "outputs": [],
   "source": [
    "from sklearn.model_selection import GridSearchCV, cross_val_score\n",
    "param_grid = {'param': [1, 10, 100]}\n",
    "grid = GridSearchCV(model, param_grid, cv=3)\n",
    "nested_scores = cross_val_score(grid, X, y, cv=5)\n"
   ]
  },
  {
   "cell_type": "markdown",
   "metadata": {},
   "source": [
    "$\\textbf{Bootstrapping}$\n",
    "\n",
    "Описание: Генерация нескольких обучающих наборов с заменой для оценки модели.\n",
    "\n",
    "Преимущества: Хорошо работает на небольших наборах данных."
   ]
  },
  {
   "cell_type": "code",
   "execution_count": null,
   "metadata": {},
   "outputs": [],
   "source": [
    "from sklearn.utils import resample\n",
    "for _ in range(100):\n",
    "    X_resampled, y_resampled = resample(X, y)\n",
    "    model.fit(X_resampled, y_resampled)\n"
   ]
  },
  {
   "cell_type": "markdown",
   "metadata": {},
   "source": [
    "$\\textbf{Monte Carlo Cross-Validation}$\n",
    "\n",
    "Описание: Многократное случайное разделение данных на тренировочные и тестовые наборы.\n",
    "\n",
    "Преимущества: Подходит для оценки производительности."
   ]
  },
  {
   "cell_type": "code",
   "execution_count": null,
   "metadata": {},
   "outputs": [],
   "source": [
    "for _ in range(100):\n",
    "    X_train, X_test, y_train, y_test = train_test_split(X, y, test_size=0.2)\n",
    "    model.fit(X_train, y_train)\n"
   ]
  }
 ],
 "metadata": {
  "kernelspec": {
   "display_name": "Python 3",
   "language": "python",
   "name": "python3"
  },
  "language_info": {
   "codemirror_mode": {
    "name": "ipython",
    "version": 3
   },
   "file_extension": ".py",
   "mimetype": "text/x-python",
   "name": "python",
   "nbconvert_exporter": "python",
   "pygments_lexer": "ipython3",
   "version": "3.10.5"
  }
 },
 "nbformat": 4,
 "nbformat_minor": 2
}
